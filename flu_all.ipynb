{
  "nbformat": 4,
  "nbformat_minor": 0,
  "metadata": {
    "colab": {
      "name": "flu_all.ipynb",
      "provenance": [],
      "collapsed_sections": [],
      "authorship_tag": "ABX9TyPra5kCWZMdIdBeRGhVb/lF",
      "include_colab_link": true
    },
    "kernelspec": {
      "name": "python3",
      "display_name": "Python 3"
    }
  },
  "cells": [
    {
      "cell_type": "markdown",
      "metadata": {
        "id": "view-in-github",
        "colab_type": "text"
      },
      "source": [
        "<a href=\"https://colab.research.google.com/github/mohanpartha/ML_preprocessing/blob/master/flu_all.ipynb\" target=\"_parent\"><img src=\"https://colab.research.google.com/assets/colab-badge.svg\" alt=\"Open In Colab\"/></a>"
      ]
    },
    {
      "cell_type": "code",
      "metadata": {
        "id": "ovK9xnLa4ncH",
        "colab_type": "code",
        "colab": {}
      },
      "source": [
        "import pandas as pd\n",
        "from sklearn.impute import SimpleImputer\n",
        "from sklearn.preprocessing import OneHotEncoder\n",
        "from sklearn.feature_extraction.text import CountVectorizer\n",
        "from sklearn.linear_model import LogisticRegression\n",
        "from sklearn.compose import make_column_transformer\n",
        "from sklearn.pipeline import make_pipeline\n",
        "from sklearn.model_selection import train_test_split\n",
        "import matplotlib.pyplot as plt\n",
        "%matplotlib inline"
      ],
      "execution_count": 0,
      "outputs": []
    },
    {
      "cell_type": "code",
      "metadata": {
        "id": "U_PFd_IP44J0",
        "colab_type": "code",
        "outputId": "733b45a8-d419-47b1-f62b-671119ae1379",
        "colab": {
          "base_uri": "https://localhost:8080/",
          "height": 54
        }
      },
      "source": [
        "from google.colab import drive\n",
        "drive.mount('/content/drive')"
      ],
      "execution_count": 97,
      "outputs": [
        {
          "output_type": "stream",
          "text": [
            "Drive already mounted at /content/drive; to attempt to forcibly remount, call drive.mount(\"/content/drive\", force_remount=True).\n"
          ],
          "name": "stdout"
        }
      ]
    },
    {
      "cell_type": "code",
      "metadata": {
        "id": "aKYPIn5M47b7",
        "colab_type": "code",
        "colab": {}
      },
      "source": [
        "df_train = pd.read_csv('/content/drive/My Drive/data/flu/training_set_features.csv',sep=',')\n",
        "df_test = pd.read_csv('/content/drive/My Drive/data/flu/test_set_features.csv',sep=',')\n",
        "df_y = pd.read_csv('/content/drive/My Drive/data/flu/training_set_labels.csv',sep=',')"
      ],
      "execution_count": 0,
      "outputs": []
    },
    {
      "cell_type": "code",
      "metadata": {
        "id": "FBsHdlhe5GM2",
        "colab_type": "code",
        "outputId": "7a1622d9-9c69-4b67-ba8f-f5e4d364ba4f",
        "colab": {
          "base_uri": "https://localhost:8080/",
          "height": 739
        }
      },
      "source": [
        "df_train.info()"
      ],
      "execution_count": 99,
      "outputs": [
        {
          "output_type": "stream",
          "text": [
            "<class 'pandas.core.frame.DataFrame'>\n",
            "RangeIndex: 26707 entries, 0 to 26706\n",
            "Data columns (total 36 columns):\n",
            " #   Column                       Non-Null Count  Dtype  \n",
            "---  ------                       --------------  -----  \n",
            " 0   respondent_id                26707 non-null  int64  \n",
            " 1   h1n1_concern                 26615 non-null  float64\n",
            " 2   h1n1_knowledge               26591 non-null  float64\n",
            " 3   behavioral_antiviral_meds    26636 non-null  float64\n",
            " 4   behavioral_avoidance         26499 non-null  float64\n",
            " 5   behavioral_face_mask         26688 non-null  float64\n",
            " 6   behavioral_wash_hands        26665 non-null  float64\n",
            " 7   behavioral_large_gatherings  26620 non-null  float64\n",
            " 8   behavioral_outside_home      26625 non-null  float64\n",
            " 9   behavioral_touch_face        26579 non-null  float64\n",
            " 10  doctor_recc_h1n1             24547 non-null  float64\n",
            " 11  doctor_recc_seasonal         24547 non-null  float64\n",
            " 12  chronic_med_condition        25736 non-null  float64\n",
            " 13  child_under_6_months         25887 non-null  float64\n",
            " 14  health_worker                25903 non-null  float64\n",
            " 15  health_insurance             14433 non-null  float64\n",
            " 16  opinion_h1n1_vacc_effective  26316 non-null  float64\n",
            " 17  opinion_h1n1_risk            26319 non-null  float64\n",
            " 18  opinion_h1n1_sick_from_vacc  26312 non-null  float64\n",
            " 19  opinion_seas_vacc_effective  26245 non-null  float64\n",
            " 20  opinion_seas_risk            26193 non-null  float64\n",
            " 21  opinion_seas_sick_from_vacc  26170 non-null  float64\n",
            " 22  age_group                    26707 non-null  object \n",
            " 23  education                    25300 non-null  object \n",
            " 24  race                         26707 non-null  object \n",
            " 25  sex                          26707 non-null  object \n",
            " 26  income_poverty               22284 non-null  object \n",
            " 27  marital_status               25299 non-null  object \n",
            " 28  rent_or_own                  24665 non-null  object \n",
            " 29  employment_status            25244 non-null  object \n",
            " 30  hhs_geo_region               26707 non-null  object \n",
            " 31  census_msa                   26707 non-null  object \n",
            " 32  household_adults             26458 non-null  float64\n",
            " 33  household_children           26458 non-null  float64\n",
            " 34  employment_industry          13377 non-null  object \n",
            " 35  employment_occupation        13237 non-null  object \n",
            "dtypes: float64(23), int64(1), object(12)\n",
            "memory usage: 7.3+ MB\n"
          ],
          "name": "stdout"
        }
      ]
    },
    {
      "cell_type": "code",
      "metadata": {
        "id": "M23c1JUNFxx6",
        "colab_type": "code",
        "colab": {}
      },
      "source": [
        "df_train.set_index('respondent_id',inplace=True)"
      ],
      "execution_count": 0,
      "outputs": []
    },
    {
      "cell_type": "code",
      "metadata": {
        "id": "_z0723s-GOFP",
        "colab_type": "code",
        "colab": {}
      },
      "source": [
        "discard_cols = [\"employment_industry\", \"employment_occupation\", \"health_insurance\"]"
      ],
      "execution_count": 0,
      "outputs": []
    },
    {
      "cell_type": "code",
      "metadata": {
        "id": "XPDLpSWOtYA5",
        "colab_type": "code",
        "colab": {}
      },
      "source": [
        "df_train.drop(columns = discard_cols, inplace=True)"
      ],
      "execution_count": 0,
      "outputs": []
    },
    {
      "cell_type": "code",
      "metadata": {
        "id": "flxSUvfp7xM2",
        "colab_type": "code",
        "colab": {
          "base_uri": "https://localhost:8080/",
          "height": 101
        },
        "outputId": "10de9e89-35b6-4ec8-a1d5-8cea36a4bfe3"
      },
      "source": [
        "df_train['h1n1_concern'].value_counts()"
      ],
      "execution_count": 103,
      "outputs": [
        {
          "output_type": "execute_result",
          "data": {
            "text/plain": [
              "2.0    10575\n",
              "1.0     8153\n",
              "3.0     4591\n",
              "0.0     3296\n",
              "Name: h1n1_concern, dtype: int64"
            ]
          },
          "metadata": {
            "tags": []
          },
          "execution_count": 103
        }
      ]
    },
    {
      "cell_type": "code",
      "metadata": {
        "id": "JIxzMP66uIA1",
        "colab_type": "code",
        "colab": {
          "base_uri": "https://localhost:8080/",
          "height": 67
        },
        "outputId": "89b52026-1176-40e5-cd8b-7356acde43e6"
      },
      "source": [
        "df_train['child_under_6_months'].value_counts()"
      ],
      "execution_count": 104,
      "outputs": [
        {
          "output_type": "execute_result",
          "data": {
            "text/plain": [
              "0.0    23749\n",
              "1.0     2138\n",
              "Name: child_under_6_months, dtype: int64"
            ]
          },
          "metadata": {
            "tags": []
          },
          "execution_count": 104
        }
      ]
    },
    {
      "cell_type": "code",
      "metadata": {
        "id": "Cbm0hbfpPdsm",
        "colab_type": "code",
        "colab": {
          "base_uri": "https://localhost:8080/",
          "height": 118
        },
        "outputId": "1199209e-7549-4352-a533-aa0ad1577fe1"
      },
      "source": [
        "df_train['age_group'].value_counts()"
      ],
      "execution_count": 105,
      "outputs": [
        {
          "output_type": "execute_result",
          "data": {
            "text/plain": [
              "65+ Years        6843\n",
              "55 - 64 Years    5563\n",
              "45 - 54 Years    5238\n",
              "18 - 34 Years    5215\n",
              "35 - 44 Years    3848\n",
              "Name: age_group, dtype: int64"
            ]
          },
          "metadata": {
            "tags": []
          },
          "execution_count": 105
        }
      ]
    },
    {
      "cell_type": "code",
      "metadata": {
        "id": "Cosg4fYOPdyp",
        "colab_type": "code",
        "colab": {
          "base_uri": "https://localhost:8080/",
          "height": 118
        },
        "outputId": "450ca420-856c-43e5-df8a-7c0675dc716c"
      },
      "source": [
        "df_train['opinion_h1n1_vacc_effective'].value_counts()"
      ],
      "execution_count": 106,
      "outputs": [
        {
          "output_type": "execute_result",
          "data": {
            "text/plain": [
              "4.0    11683\n",
              "5.0     7166\n",
              "3.0     4723\n",
              "2.0     1858\n",
              "1.0      886\n",
              "Name: opinion_h1n1_vacc_effective, dtype: int64"
            ]
          },
          "metadata": {
            "tags": []
          },
          "execution_count": 106
        }
      ]
    },
    {
      "cell_type": "code",
      "metadata": {
        "id": "9dxkDk8VMYv0",
        "colab_type": "code",
        "colab": {}
      },
      "source": [
        "fill_na_values = df_train.mode().iloc[0]"
      ],
      "execution_count": 0,
      "outputs": []
    },
    {
      "cell_type": "code",
      "metadata": {
        "id": "NTrYyMRaMveo",
        "colab_type": "code",
        "colab": {
          "base_uri": "https://localhost:8080/",
          "height": 571
        },
        "outputId": "1d398fb0-84a1-4f48-c2bb-9c5db251b098"
      },
      "source": [
        "fill_na_values"
      ],
      "execution_count": 108,
      "outputs": [
        {
          "output_type": "execute_result",
          "data": {
            "text/plain": [
              "h1n1_concern                                           2\n",
              "h1n1_knowledge                                         1\n",
              "behavioral_antiviral_meds                              0\n",
              "behavioral_avoidance                                   1\n",
              "behavioral_face_mask                                   0\n",
              "behavioral_wash_hands                                  1\n",
              "behavioral_large_gatherings                            0\n",
              "behavioral_outside_home                                0\n",
              "behavioral_touch_face                                  1\n",
              "doctor_recc_h1n1                                       0\n",
              "doctor_recc_seasonal                                   0\n",
              "chronic_med_condition                                  0\n",
              "child_under_6_months                                   0\n",
              "health_worker                                          0\n",
              "opinion_h1n1_vacc_effective                            4\n",
              "opinion_h1n1_risk                                      2\n",
              "opinion_h1n1_sick_from_vacc                            2\n",
              "opinion_seas_vacc_effective                            4\n",
              "opinion_seas_risk                                      2\n",
              "opinion_seas_sick_from_vacc                            1\n",
              "age_group                                      65+ Years\n",
              "education                               College Graduate\n",
              "race                                               White\n",
              "sex                                               Female\n",
              "income_poverty                 <= $75,000, Above Poverty\n",
              "marital_status                                   Married\n",
              "rent_or_own                                          Own\n",
              "employment_status                               Employed\n",
              "hhs_geo_region                                  lzgpxyit\n",
              "census_msa                      MSA, Not Principle  City\n",
              "household_adults                                       1\n",
              "household_children                                     0\n",
              "Name: 0, dtype: object"
            ]
          },
          "metadata": {
            "tags": []
          },
          "execution_count": 108
        }
      ]
    },
    {
      "cell_type": "code",
      "metadata": {
        "id": "BITEsdTKMZGA",
        "colab_type": "code",
        "colab": {}
      },
      "source": [
        "df_train = df_train.fillna(fill_na_values)"
      ],
      "execution_count": 0,
      "outputs": []
    },
    {
      "cell_type": "code",
      "metadata": {
        "id": "msF_PmErRytx",
        "colab_type": "code",
        "colab": {}
      },
      "source": [
        "dummy_cols = [\"age_group\", \"education\", \n",
        "              \"race\", \"sex\", \n",
        "              \"income_poverty\", \"marital_status\",\n",
        "             \"rent_or_own\", \"employment_status\",\n",
        "              \"hhs_geo_region\", \"census_msa\",\n",
        "              \"h1n1_concern\", \"h1n1_knowledge\",\n",
        "              \"opinion_h1n1_vacc_effective\",\n",
        "              \"opinion_h1n1_risk\",\"opinion_h1n1_sick_from_vacc\",\n",
        "              \"opinion_seas_vacc_effective\",\"opinion_seas_risk\"\n",
        "             ]"
      ],
      "execution_count": 0,
      "outputs": []
    },
    {
      "cell_type": "code",
      "metadata": {
        "id": "9esQZNN96bKh",
        "colab_type": "code",
        "colab": {}
      },
      "source": [
        "df_X = pd.concat([df_train.drop(columns=dummy_cols), \n",
        "                pd.get_dummies(df_train[dummy_cols]),], axis=1)"
      ],
      "execution_count": 0,
      "outputs": []
    },
    {
      "cell_type": "code",
      "metadata": {
        "id": "E_9PbIDoTP5-",
        "colab_type": "code",
        "colab": {}
      },
      "source": [
        "logreg_all_h1n1 = LogisticRegression(solver='liblinear', random_state=3)\n",
        "logreg_all_season = LogisticRegression(solver='liblinear', random_state=4)\n",
        "\n",
        "from sklearn.metrics import accuracy_score, confusion_matrix"
      ],
      "execution_count": 0,
      "outputs": []
    },
    {
      "cell_type": "code",
      "metadata": {
        "id": "18Xnb9wyhUDS",
        "colab_type": "code",
        "colab": {}
      },
      "source": [
        "X_train, X_valid, y_train, y_valid = train_test_split(df_X, df_y, test_size=0.2)"
      ],
      "execution_count": 0,
      "outputs": []
    },
    {
      "cell_type": "code",
      "metadata": {
        "id": "Co8Rjs0sXA4M",
        "colab_type": "code",
        "colab": {
          "base_uri": "https://localhost:8080/",
          "height": 470
        },
        "outputId": "84446381-53f1-4559-8b20-6c7f92493060"
      },
      "source": [
        "print(X_train.shape, X_valid.shape, y_train, y_valid)"
      ],
      "execution_count": 114,
      "outputs": [
        {
          "output_type": "stream",
          "text": [
            "(21365, 60) (5342, 60)        respondent_id  h1n1_vaccine  seasonal_vaccine\n",
            "20649          20649             0                 0\n",
            "20687          20687             0                 0\n",
            "1130            1130             0                 0\n",
            "22662          22662             0                 0\n",
            "9800            9800             0                 0\n",
            "...              ...           ...               ...\n",
            "4368            4368             0                 0\n",
            "17836          17836             1                 0\n",
            "12981          12981             1                 1\n",
            "1755            1755             0                 0\n",
            "780              780             1                 1\n",
            "\n",
            "[21365 rows x 3 columns]        respondent_id  h1n1_vaccine  seasonal_vaccine\n",
            "10902          10902             0                 0\n",
            "21239          21239             0                 1\n",
            "5320            5320             0                 0\n",
            "11820          11820             1                 1\n",
            "7491            7491             0                 0\n",
            "...              ...           ...               ...\n",
            "5078            5078             0                 0\n",
            "15231          15231             0                 1\n",
            "23738          23738             0                 0\n",
            "18003          18003             0                 0\n",
            "5532            5532             1                 1\n",
            "\n",
            "[5342 rows x 3 columns]\n"
          ],
          "name": "stdout"
        }
      ]
    },
    {
      "cell_type": "code",
      "metadata": {
        "id": "D0BLRrxFhc6-",
        "colab_type": "code",
        "colab": {
          "base_uri": "https://localhost:8080/",
          "height": 101
        },
        "outputId": "f32d1986-865a-4515-dea7-71ccb0670500"
      },
      "source": [
        "logreg_all_h1n1.fit(X_train, y_train[\"h1n1_vaccine\"])\n",
        "logreg_all_season.fit(X_train, y_train[\"seasonal_vaccine\"])"
      ],
      "execution_count": 115,
      "outputs": [
        {
          "output_type": "execute_result",
          "data": {
            "text/plain": [
              "LogisticRegression(C=1.0, class_weight=None, dual=False, fit_intercept=True,\n",
              "                   intercept_scaling=1, l1_ratio=None, max_iter=100,\n",
              "                   multi_class='auto', n_jobs=None, penalty='l2',\n",
              "                   random_state=4, solver='liblinear', tol=0.0001, verbose=0,\n",
              "                   warm_start=False)"
            ]
          },
          "metadata": {
            "tags": []
          },
          "execution_count": 115
        }
      ]
    },
    {
      "cell_type": "code",
      "metadata": {
        "id": "xE1cvG0pYbeX",
        "colab_type": "code",
        "colab": {}
      },
      "source": [
        "def compute_accuracy(model, X, y):\n",
        "    y_pred = model.predict(X)\n",
        "    return accuracy_score(y, y_pred)"
      ],
      "execution_count": 0,
      "outputs": []
    },
    {
      "cell_type": "code",
      "metadata": {
        "id": "IWIM9hZGhv4l",
        "colab_type": "code",
        "colab": {
          "base_uri": "https://localhost:8080/",
          "height": 84
        },
        "outputId": "cde14b9f-8c66-45b1-c680-a57402554c80"
      },
      "source": [
        "print(\"H1N1 - Train\", \n",
        "      compute_accuracy(logreg_all_h1n1, X_train, y_train[\"h1n1_vaccine\"]))\n",
        "\n",
        "print(\"H1N1 - Valid\", \n",
        "      compute_accuracy(logreg_all_h1n1, X_valid, y_valid[\"h1n1_vaccine\"]))\n",
        "\n",
        "print(\"Seas - Train\", \n",
        "      compute_accuracy(logreg_all_season, X_train, y_train[\"seasonal_vaccine\"]))\n",
        "\n",
        "print(\"Seas - Valid\", \n",
        "      compute_accuracy(logreg_all_season, X_valid, y_valid[\"seasonal_vaccine\"]))"
      ],
      "execution_count": 117,
      "outputs": [
        {
          "output_type": "stream",
          "text": [
            "H1N1 - Train 0.8349169201965831\n",
            "H1N1 - Valid 0.8354548858105578\n",
            "Seas - Train 0.7758483501053124\n",
            "Seas - Valid 0.7852864095844253\n"
          ],
          "name": "stdout"
        }
      ]
    },
    {
      "cell_type": "code",
      "metadata": {
        "id": "oyb1TTZSdb8r",
        "colab_type": "code",
        "colab": {}
      },
      "source": [
        "# Prepare test data\n",
        "df_test = pd.read_csv('/content/drive/My Drive/data/flu/test_set_features.csv',sep=',')\n",
        "df_test.set_index(\"respondent_id\", inplace=True)"
      ],
      "execution_count": 0,
      "outputs": []
    },
    {
      "cell_type": "code",
      "metadata": {
        "id": "mckB3a45dcHx",
        "colab_type": "code",
        "colab": {
          "base_uri": "https://localhost:8080/",
          "height": 235
        },
        "outputId": "b0f023f1-5997-4ad4-9d09-8579f7925e0c"
      },
      "source": [
        "df_test.columns"
      ],
      "execution_count": 129,
      "outputs": [
        {
          "output_type": "execute_result",
          "data": {
            "text/plain": [
              "Index(['h1n1_concern', 'h1n1_knowledge', 'behavioral_antiviral_meds',\n",
              "       'behavioral_avoidance', 'behavioral_face_mask', 'behavioral_wash_hands',\n",
              "       'behavioral_large_gatherings', 'behavioral_outside_home',\n",
              "       'behavioral_touch_face', 'doctor_recc_h1n1', 'doctor_recc_seasonal',\n",
              "       'chronic_med_condition', 'child_under_6_months', 'health_worker',\n",
              "       'health_insurance', 'opinion_h1n1_vacc_effective', 'opinion_h1n1_risk',\n",
              "       'opinion_h1n1_sick_from_vacc', 'opinion_seas_vacc_effective',\n",
              "       'opinion_seas_risk', 'opinion_seas_sick_from_vacc', 'age_group',\n",
              "       'education', 'race', 'sex', 'income_poverty', 'marital_status',\n",
              "       'rent_or_own', 'employment_status', 'hhs_geo_region', 'census_msa',\n",
              "       'household_adults', 'household_children', 'employment_industry',\n",
              "       'employment_occupation'],\n",
              "      dtype='object')"
            ]
          },
          "metadata": {
            "tags": []
          },
          "execution_count": 129
        }
      ]
    },
    {
      "cell_type": "code",
      "metadata": {
        "id": "MJPa-ViWdxtS",
        "colab_type": "code",
        "colab": {
          "base_uri": "https://localhost:8080/",
          "height": 338
        },
        "outputId": "3c30cb75-9f24-437b-b745-e4e480631fc9"
      },
      "source": [
        "# Drop columns\n",
        "df_test = df_test.drop(columns=discard_cols)\n",
        "df_test = df_test.fillna(fill_na_values)"
      ],
      "execution_count": 131,
      "outputs": [
        {
          "output_type": "error",
          "ename": "KeyError",
          "evalue": "ignored",
          "traceback": [
            "\u001b[0;31m---------------------------------------------------------------------------\u001b[0m",
            "\u001b[0;31mKeyError\u001b[0m                                  Traceback (most recent call last)",
            "\u001b[0;32m<ipython-input-131-bb0c3e1a052d>\u001b[0m in \u001b[0;36m<module>\u001b[0;34m()\u001b[0m\n\u001b[1;32m      1\u001b[0m \u001b[0;31m# Drop columns\u001b[0m\u001b[0;34m\u001b[0m\u001b[0;34m\u001b[0m\u001b[0;34m\u001b[0m\u001b[0m\n\u001b[0;32m----> 2\u001b[0;31m \u001b[0mdf_test\u001b[0m \u001b[0;34m=\u001b[0m \u001b[0mdf_test\u001b[0m\u001b[0;34m.\u001b[0m\u001b[0mdrop\u001b[0m\u001b[0;34m(\u001b[0m\u001b[0mcolumns\u001b[0m\u001b[0;34m=\u001b[0m\u001b[0mdiscard_cols\u001b[0m\u001b[0;34m)\u001b[0m\u001b[0;34m\u001b[0m\u001b[0;34m\u001b[0m\u001b[0m\n\u001b[0m\u001b[1;32m      3\u001b[0m \u001b[0mdf_test\u001b[0m \u001b[0;34m=\u001b[0m \u001b[0mdf_test\u001b[0m\u001b[0;34m.\u001b[0m\u001b[0mfillna\u001b[0m\u001b[0;34m(\u001b[0m\u001b[0mfill_na_values\u001b[0m\u001b[0;34m)\u001b[0m\u001b[0;34m\u001b[0m\u001b[0;34m\u001b[0m\u001b[0m\n",
            "\u001b[0;32m/usr/local/lib/python3.6/dist-packages/pandas/core/frame.py\u001b[0m in \u001b[0;36mdrop\u001b[0;34m(self, labels, axis, index, columns, level, inplace, errors)\u001b[0m\n\u001b[1;32m   3995\u001b[0m             \u001b[0mlevel\u001b[0m\u001b[0;34m=\u001b[0m\u001b[0mlevel\u001b[0m\u001b[0;34m,\u001b[0m\u001b[0;34m\u001b[0m\u001b[0;34m\u001b[0m\u001b[0m\n\u001b[1;32m   3996\u001b[0m             \u001b[0minplace\u001b[0m\u001b[0;34m=\u001b[0m\u001b[0minplace\u001b[0m\u001b[0;34m,\u001b[0m\u001b[0;34m\u001b[0m\u001b[0;34m\u001b[0m\u001b[0m\n\u001b[0;32m-> 3997\u001b[0;31m             \u001b[0merrors\u001b[0m\u001b[0;34m=\u001b[0m\u001b[0merrors\u001b[0m\u001b[0;34m,\u001b[0m\u001b[0;34m\u001b[0m\u001b[0;34m\u001b[0m\u001b[0m\n\u001b[0m\u001b[1;32m   3998\u001b[0m         )\n\u001b[1;32m   3999\u001b[0m \u001b[0;34m\u001b[0m\u001b[0m\n",
            "\u001b[0;32m/usr/local/lib/python3.6/dist-packages/pandas/core/generic.py\u001b[0m in \u001b[0;36mdrop\u001b[0;34m(self, labels, axis, index, columns, level, inplace, errors)\u001b[0m\n\u001b[1;32m   3934\u001b[0m         \u001b[0;32mfor\u001b[0m \u001b[0maxis\u001b[0m\u001b[0;34m,\u001b[0m \u001b[0mlabels\u001b[0m \u001b[0;32min\u001b[0m \u001b[0maxes\u001b[0m\u001b[0;34m.\u001b[0m\u001b[0mitems\u001b[0m\u001b[0;34m(\u001b[0m\u001b[0;34m)\u001b[0m\u001b[0;34m:\u001b[0m\u001b[0;34m\u001b[0m\u001b[0;34m\u001b[0m\u001b[0m\n\u001b[1;32m   3935\u001b[0m             \u001b[0;32mif\u001b[0m \u001b[0mlabels\u001b[0m \u001b[0;32mis\u001b[0m \u001b[0;32mnot\u001b[0m \u001b[0;32mNone\u001b[0m\u001b[0;34m:\u001b[0m\u001b[0;34m\u001b[0m\u001b[0;34m\u001b[0m\u001b[0m\n\u001b[0;32m-> 3936\u001b[0;31m                 \u001b[0mobj\u001b[0m \u001b[0;34m=\u001b[0m \u001b[0mobj\u001b[0m\u001b[0;34m.\u001b[0m\u001b[0m_drop_axis\u001b[0m\u001b[0;34m(\u001b[0m\u001b[0mlabels\u001b[0m\u001b[0;34m,\u001b[0m \u001b[0maxis\u001b[0m\u001b[0;34m,\u001b[0m \u001b[0mlevel\u001b[0m\u001b[0;34m=\u001b[0m\u001b[0mlevel\u001b[0m\u001b[0;34m,\u001b[0m \u001b[0merrors\u001b[0m\u001b[0;34m=\u001b[0m\u001b[0merrors\u001b[0m\u001b[0;34m)\u001b[0m\u001b[0;34m\u001b[0m\u001b[0;34m\u001b[0m\u001b[0m\n\u001b[0m\u001b[1;32m   3937\u001b[0m \u001b[0;34m\u001b[0m\u001b[0m\n\u001b[1;32m   3938\u001b[0m         \u001b[0;32mif\u001b[0m \u001b[0minplace\u001b[0m\u001b[0;34m:\u001b[0m\u001b[0;34m\u001b[0m\u001b[0;34m\u001b[0m\u001b[0m\n",
            "\u001b[0;32m/usr/local/lib/python3.6/dist-packages/pandas/core/generic.py\u001b[0m in \u001b[0;36m_drop_axis\u001b[0;34m(self, labels, axis, level, errors)\u001b[0m\n\u001b[1;32m   3968\u001b[0m                 \u001b[0mnew_axis\u001b[0m \u001b[0;34m=\u001b[0m \u001b[0maxis\u001b[0m\u001b[0;34m.\u001b[0m\u001b[0mdrop\u001b[0m\u001b[0;34m(\u001b[0m\u001b[0mlabels\u001b[0m\u001b[0;34m,\u001b[0m \u001b[0mlevel\u001b[0m\u001b[0;34m=\u001b[0m\u001b[0mlevel\u001b[0m\u001b[0;34m,\u001b[0m \u001b[0merrors\u001b[0m\u001b[0;34m=\u001b[0m\u001b[0merrors\u001b[0m\u001b[0;34m)\u001b[0m\u001b[0;34m\u001b[0m\u001b[0;34m\u001b[0m\u001b[0m\n\u001b[1;32m   3969\u001b[0m             \u001b[0;32melse\u001b[0m\u001b[0;34m:\u001b[0m\u001b[0;34m\u001b[0m\u001b[0;34m\u001b[0m\u001b[0m\n\u001b[0;32m-> 3970\u001b[0;31m                 \u001b[0mnew_axis\u001b[0m \u001b[0;34m=\u001b[0m \u001b[0maxis\u001b[0m\u001b[0;34m.\u001b[0m\u001b[0mdrop\u001b[0m\u001b[0;34m(\u001b[0m\u001b[0mlabels\u001b[0m\u001b[0;34m,\u001b[0m \u001b[0merrors\u001b[0m\u001b[0;34m=\u001b[0m\u001b[0merrors\u001b[0m\u001b[0;34m)\u001b[0m\u001b[0;34m\u001b[0m\u001b[0;34m\u001b[0m\u001b[0m\n\u001b[0m\u001b[1;32m   3971\u001b[0m             \u001b[0mresult\u001b[0m \u001b[0;34m=\u001b[0m \u001b[0mself\u001b[0m\u001b[0;34m.\u001b[0m\u001b[0mreindex\u001b[0m\u001b[0;34m(\u001b[0m\u001b[0;34m**\u001b[0m\u001b[0;34m{\u001b[0m\u001b[0maxis_name\u001b[0m\u001b[0;34m:\u001b[0m \u001b[0mnew_axis\u001b[0m\u001b[0;34m}\u001b[0m\u001b[0;34m)\u001b[0m\u001b[0;34m\u001b[0m\u001b[0;34m\u001b[0m\u001b[0m\n\u001b[1;32m   3972\u001b[0m \u001b[0;34m\u001b[0m\u001b[0m\n",
            "\u001b[0;32m/usr/local/lib/python3.6/dist-packages/pandas/core/indexes/base.py\u001b[0m in \u001b[0;36mdrop\u001b[0;34m(self, labels, errors)\u001b[0m\n\u001b[1;32m   5016\u001b[0m         \u001b[0;32mif\u001b[0m \u001b[0mmask\u001b[0m\u001b[0;34m.\u001b[0m\u001b[0many\u001b[0m\u001b[0;34m(\u001b[0m\u001b[0;34m)\u001b[0m\u001b[0;34m:\u001b[0m\u001b[0;34m\u001b[0m\u001b[0;34m\u001b[0m\u001b[0m\n\u001b[1;32m   5017\u001b[0m             \u001b[0;32mif\u001b[0m \u001b[0merrors\u001b[0m \u001b[0;34m!=\u001b[0m \u001b[0;34m\"ignore\"\u001b[0m\u001b[0;34m:\u001b[0m\u001b[0;34m\u001b[0m\u001b[0;34m\u001b[0m\u001b[0m\n\u001b[0;32m-> 5018\u001b[0;31m                 \u001b[0;32mraise\u001b[0m \u001b[0mKeyError\u001b[0m\u001b[0;34m(\u001b[0m\u001b[0;34mf\"{labels[mask]} not found in axis\"\u001b[0m\u001b[0;34m)\u001b[0m\u001b[0;34m\u001b[0m\u001b[0;34m\u001b[0m\u001b[0m\n\u001b[0m\u001b[1;32m   5019\u001b[0m             \u001b[0mindexer\u001b[0m \u001b[0;34m=\u001b[0m \u001b[0mindexer\u001b[0m\u001b[0;34m[\u001b[0m\u001b[0;34m~\u001b[0m\u001b[0mmask\u001b[0m\u001b[0;34m]\u001b[0m\u001b[0;34m\u001b[0m\u001b[0;34m\u001b[0m\u001b[0m\n\u001b[1;32m   5020\u001b[0m         \u001b[0;32mreturn\u001b[0m \u001b[0mself\u001b[0m\u001b[0;34m.\u001b[0m\u001b[0mdelete\u001b[0m\u001b[0;34m(\u001b[0m\u001b[0mindexer\u001b[0m\u001b[0;34m)\u001b[0m\u001b[0;34m\u001b[0m\u001b[0;34m\u001b[0m\u001b[0m\n",
            "\u001b[0;31mKeyError\u001b[0m: \"['employment_industry' 'employment_occupation' 'health_insurance'] not found in axis\""
          ]
        }
      ]
    },
    {
      "cell_type": "code",
      "metadata": {
        "id": "VVRJIByKaH5E",
        "colab_type": "code",
        "colab": {}
      },
      "source": [
        "df_X_test = pd.concat([df_test.drop(columns=dummy_cols),\n",
        "           pd.get_dummies(df_test[dummy_cols]),\n",
        "          ], axis=1)"
      ],
      "execution_count": 0,
      "outputs": []
    },
    {
      "cell_type": "code",
      "metadata": {
        "id": "HUqFzFfle-xA",
        "colab_type": "code",
        "colab": {
          "base_uri": "https://localhost:8080/",
          "height": 1000
        },
        "outputId": "4b657aa0-8164-4f4d-918d-dd9b6cf8732d"
      },
      "source": [
        "df_X_test.info()\n"
      ],
      "execution_count": 133,
      "outputs": [
        {
          "output_type": "stream",
          "text": [
            "<class 'pandas.core.frame.DataFrame'>\n",
            "Int64Index: 26708 entries, 26707 to 53414\n",
            "Data columns (total 60 columns):\n",
            " #   Column                                    Non-Null Count  Dtype  \n",
            "---  ------                                    --------------  -----  \n",
            " 0   behavioral_antiviral_meds                 26708 non-null  float64\n",
            " 1   behavioral_avoidance                      26708 non-null  float64\n",
            " 2   behavioral_face_mask                      26708 non-null  float64\n",
            " 3   behavioral_wash_hands                     26708 non-null  float64\n",
            " 4   behavioral_large_gatherings               26708 non-null  float64\n",
            " 5   behavioral_outside_home                   26708 non-null  float64\n",
            " 6   behavioral_touch_face                     26708 non-null  float64\n",
            " 7   doctor_recc_h1n1                          26708 non-null  float64\n",
            " 8   doctor_recc_seasonal                      26708 non-null  float64\n",
            " 9   chronic_med_condition                     26708 non-null  float64\n",
            " 10  child_under_6_months                      26708 non-null  float64\n",
            " 11  health_worker                             26708 non-null  float64\n",
            " 12  opinion_seas_sick_from_vacc               26708 non-null  float64\n",
            " 13  household_adults                          26708 non-null  float64\n",
            " 14  household_children                        26708 non-null  float64\n",
            " 15  h1n1_concern                              26708 non-null  float64\n",
            " 16  h1n1_knowledge                            26708 non-null  float64\n",
            " 17  opinion_h1n1_vacc_effective               26708 non-null  float64\n",
            " 18  opinion_h1n1_risk                         26708 non-null  float64\n",
            " 19  opinion_h1n1_sick_from_vacc               26708 non-null  float64\n",
            " 20  opinion_seas_vacc_effective               26708 non-null  float64\n",
            " 21  opinion_seas_risk                         26708 non-null  float64\n",
            " 22  age_group_18 - 34 Years                   26708 non-null  uint8  \n",
            " 23  age_group_35 - 44 Years                   26708 non-null  uint8  \n",
            " 24  age_group_45 - 54 Years                   26708 non-null  uint8  \n",
            " 25  age_group_55 - 64 Years                   26708 non-null  uint8  \n",
            " 26  age_group_65+ Years                       26708 non-null  uint8  \n",
            " 27  education_12 Years                        26708 non-null  uint8  \n",
            " 28  education_< 12 Years                      26708 non-null  uint8  \n",
            " 29  education_College Graduate                26708 non-null  uint8  \n",
            " 30  education_Some College                    26708 non-null  uint8  \n",
            " 31  race_Black                                26708 non-null  uint8  \n",
            " 32  race_Hispanic                             26708 non-null  uint8  \n",
            " 33  race_Other or Multiple                    26708 non-null  uint8  \n",
            " 34  race_White                                26708 non-null  uint8  \n",
            " 35  sex_Female                                26708 non-null  uint8  \n",
            " 36  sex_Male                                  26708 non-null  uint8  \n",
            " 37  income_poverty_<= $75,000, Above Poverty  26708 non-null  uint8  \n",
            " 38  income_poverty_> $75,000                  26708 non-null  uint8  \n",
            " 39  income_poverty_Below Poverty              26708 non-null  uint8  \n",
            " 40  marital_status_Married                    26708 non-null  uint8  \n",
            " 41  marital_status_Not Married                26708 non-null  uint8  \n",
            " 42  rent_or_own_Own                           26708 non-null  uint8  \n",
            " 43  rent_or_own_Rent                          26708 non-null  uint8  \n",
            " 44  employment_status_Employed                26708 non-null  uint8  \n",
            " 45  employment_status_Not in Labor Force      26708 non-null  uint8  \n",
            " 46  employment_status_Unemployed              26708 non-null  uint8  \n",
            " 47  hhs_geo_region_atmpeygn                   26708 non-null  uint8  \n",
            " 48  hhs_geo_region_bhuqouqj                   26708 non-null  uint8  \n",
            " 49  hhs_geo_region_dqpwygqj                   26708 non-null  uint8  \n",
            " 50  hhs_geo_region_fpwskwrf                   26708 non-null  uint8  \n",
            " 51  hhs_geo_region_kbazzjca                   26708 non-null  uint8  \n",
            " 52  hhs_geo_region_lrircsnp                   26708 non-null  uint8  \n",
            " 53  hhs_geo_region_lzgpxyit                   26708 non-null  uint8  \n",
            " 54  hhs_geo_region_mlyzmhmf                   26708 non-null  uint8  \n",
            " 55  hhs_geo_region_oxchjgsf                   26708 non-null  uint8  \n",
            " 56  hhs_geo_region_qufhixun                   26708 non-null  uint8  \n",
            " 57  census_msa_MSA, Not Principle  City       26708 non-null  uint8  \n",
            " 58  census_msa_MSA, Principle City            26708 non-null  uint8  \n",
            " 59  census_msa_Non-MSA                        26708 non-null  uint8  \n",
            "dtypes: float64(22), uint8(38)\n",
            "memory usage: 5.7 MB\n"
          ],
          "name": "stdout"
        }
      ]
    },
    {
      "cell_type": "code",
      "metadata": {
        "id": "EkOnblDgfr_h",
        "colab_type": "code",
        "colab": {}
      },
      "source": [
        "df_X_test['age_group_35 - 44 Years'].value_counts()"
      ],
      "execution_count": 0,
      "outputs": []
    },
    {
      "cell_type": "code",
      "metadata": {
        "id": "Dn8zF1UfeAGO",
        "colab_type": "code",
        "colab": {}
      },
      "source": [
        "y_pred_h1n1 = logreg_all_h1n1.predict_proba(df_X_test)"
      ],
      "execution_count": 0,
      "outputs": []
    },
    {
      "cell_type": "code",
      "metadata": {
        "id": "Jip6-bI3aIbo",
        "colab_type": "code",
        "colab": {}
      },
      "source": [
        "y_pred_seas = logreg_all_season.predict_proba(df_X_test)"
      ],
      "execution_count": 0,
      "outputs": []
    },
    {
      "cell_type": "code",
      "metadata": {
        "id": "AV-zlfMCaIlS",
        "colab_type": "code",
        "colab": {
          "base_uri": "https://localhost:8080/",
          "height": 34
        },
        "outputId": "f48e5379-4b52-4ca5-d940-099d5a9009f0"
      },
      "source": [
        "logreg_all_h1n1.predict(df_X_test)"
      ],
      "execution_count": 139,
      "outputs": [
        {
          "output_type": "execute_result",
          "data": {
            "text/plain": [
              "array([0, 0, 0, ..., 0, 0, 1])"
            ]
          },
          "metadata": {
            "tags": []
          },
          "execution_count": 139
        }
      ]
    },
    {
      "cell_type": "code",
      "metadata": {
        "id": "LPQZnp1liT23",
        "colab_type": "code",
        "colab": {
          "base_uri": "https://localhost:8080/",
          "height": 134
        },
        "outputId": "9b749ef5-61f1-4ff9-c046-f0de2e430afe"
      },
      "source": [
        "y_pred_h1n1"
      ],
      "execution_count": 140,
      "outputs": [
        {
          "output_type": "execute_result",
          "data": {
            "text/plain": [
              "array([[0.91751318, 0.08248682],\n",
              "       [0.95353344, 0.04646656],\n",
              "       [0.54362198, 0.45637802],\n",
              "       ...,\n",
              "       [0.87489936, 0.12510064],\n",
              "       [0.93385685, 0.06614315],\n",
              "       [0.47220463, 0.52779537]])"
            ]
          },
          "metadata": {
            "tags": []
          },
          "execution_count": 140
        }
      ]
    },
    {
      "cell_type": "code",
      "metadata": {
        "id": "tRsPEIyiiT9O",
        "colab_type": "code",
        "colab": {
          "base_uri": "https://localhost:8080/",
          "height": 50
        },
        "outputId": "cd0cb027-9e77-4cbd-b7fe-633705b83996"
      },
      "source": [
        "# Prob of H1N1 Vaccine\n",
        "y_pred_h1n1[:, 1]"
      ],
      "execution_count": 141,
      "outputs": [
        {
          "output_type": "execute_result",
          "data": {
            "text/plain": [
              "array([0.08248682, 0.04646656, 0.45637802, ..., 0.12510064, 0.06614315,\n",
              "       0.52779537])"
            ]
          },
          "metadata": {
            "tags": []
          },
          "execution_count": 141
        }
      ]
    },
    {
      "cell_type": "code",
      "metadata": {
        "id": "yhdMMUEviT6c",
        "colab_type": "code",
        "colab": {
          "base_uri": "https://localhost:8080/",
          "height": 50
        },
        "outputId": "7c2ffb88-5ec3-4467-f03e-82bd48574526"
      },
      "source": [
        "# Prob of Seas Vaccine\n",
        "y_pred_seas[:, 1]"
      ],
      "execution_count": 142,
      "outputs": [
        {
          "output_type": "execute_result",
          "data": {
            "text/plain": [
              "array([0.23579964, 0.05021137, 0.63485446, ..., 0.19962665, 0.37634272,\n",
              "       0.46393961])"
            ]
          },
          "metadata": {
            "tags": []
          },
          "execution_count": 142
        }
      ]
    },
    {
      "cell_type": "code",
      "metadata": {
        "id": "acVWvY6Iiny3",
        "colab_type": "code",
        "colab": {}
      },
      "source": [
        "sub_df = pd.read_csv('/content/drive/My Drive/data/flu/submission_format.csv')"
      ],
      "execution_count": 0,
      "outputs": []
    },
    {
      "cell_type": "code",
      "metadata": {
        "id": "FvM4DERlin2B",
        "colab_type": "code",
        "colab": {
          "base_uri": "https://localhost:8080/",
          "height": 402
        },
        "outputId": "6deac667-6102-4a89-a98f-30edc4dfabf5"
      },
      "source": [
        "sub_df"
      ],
      "execution_count": 146,
      "outputs": [
        {
          "output_type": "execute_result",
          "data": {
            "text/html": [
              "<div>\n",
              "<style scoped>\n",
              "    .dataframe tbody tr th:only-of-type {\n",
              "        vertical-align: middle;\n",
              "    }\n",
              "\n",
              "    .dataframe tbody tr th {\n",
              "        vertical-align: top;\n",
              "    }\n",
              "\n",
              "    .dataframe thead th {\n",
              "        text-align: right;\n",
              "    }\n",
              "</style>\n",
              "<table border=\"1\" class=\"dataframe\">\n",
              "  <thead>\n",
              "    <tr style=\"text-align: right;\">\n",
              "      <th></th>\n",
              "      <th>respondent_id</th>\n",
              "      <th>h1n1_vaccine</th>\n",
              "      <th>seasonal_vaccine</th>\n",
              "    </tr>\n",
              "  </thead>\n",
              "  <tbody>\n",
              "    <tr>\n",
              "      <th>0</th>\n",
              "      <td>26707</td>\n",
              "      <td>0.5</td>\n",
              "      <td>0.7</td>\n",
              "    </tr>\n",
              "    <tr>\n",
              "      <th>1</th>\n",
              "      <td>26708</td>\n",
              "      <td>0.5</td>\n",
              "      <td>0.7</td>\n",
              "    </tr>\n",
              "    <tr>\n",
              "      <th>2</th>\n",
              "      <td>26709</td>\n",
              "      <td>0.5</td>\n",
              "      <td>0.7</td>\n",
              "    </tr>\n",
              "    <tr>\n",
              "      <th>3</th>\n",
              "      <td>26710</td>\n",
              "      <td>0.5</td>\n",
              "      <td>0.7</td>\n",
              "    </tr>\n",
              "    <tr>\n",
              "      <th>4</th>\n",
              "      <td>26711</td>\n",
              "      <td>0.5</td>\n",
              "      <td>0.7</td>\n",
              "    </tr>\n",
              "    <tr>\n",
              "      <th>...</th>\n",
              "      <td>...</td>\n",
              "      <td>...</td>\n",
              "      <td>...</td>\n",
              "    </tr>\n",
              "    <tr>\n",
              "      <th>26703</th>\n",
              "      <td>53410</td>\n",
              "      <td>0.5</td>\n",
              "      <td>0.7</td>\n",
              "    </tr>\n",
              "    <tr>\n",
              "      <th>26704</th>\n",
              "      <td>53411</td>\n",
              "      <td>0.5</td>\n",
              "      <td>0.7</td>\n",
              "    </tr>\n",
              "    <tr>\n",
              "      <th>26705</th>\n",
              "      <td>53412</td>\n",
              "      <td>0.5</td>\n",
              "      <td>0.7</td>\n",
              "    </tr>\n",
              "    <tr>\n",
              "      <th>26706</th>\n",
              "      <td>53413</td>\n",
              "      <td>0.5</td>\n",
              "      <td>0.7</td>\n",
              "    </tr>\n",
              "    <tr>\n",
              "      <th>26707</th>\n",
              "      <td>53414</td>\n",
              "      <td>0.5</td>\n",
              "      <td>0.7</td>\n",
              "    </tr>\n",
              "  </tbody>\n",
              "</table>\n",
              "<p>26708 rows × 3 columns</p>\n",
              "</div>"
            ],
            "text/plain": [
              "       respondent_id  h1n1_vaccine  seasonal_vaccine\n",
              "0              26707           0.5               0.7\n",
              "1              26708           0.5               0.7\n",
              "2              26709           0.5               0.7\n",
              "3              26710           0.5               0.7\n",
              "4              26711           0.5               0.7\n",
              "...              ...           ...               ...\n",
              "26703          53410           0.5               0.7\n",
              "26704          53411           0.5               0.7\n",
              "26705          53412           0.5               0.7\n",
              "26706          53413           0.5               0.7\n",
              "26707          53414           0.5               0.7\n",
              "\n",
              "[26708 rows x 3 columns]"
            ]
          },
          "metadata": {
            "tags": []
          },
          "execution_count": 146
        }
      ]
    },
    {
      "cell_type": "code",
      "metadata": {
        "id": "HfQdpDXWin5g",
        "colab_type": "code",
        "colab": {}
      },
      "source": [
        "results_df = pd.DataFrame({\n",
        "    \"respondent_id\": df_X_test.index,\n",
        "    \"h1n1_vaccine\": y_pred_h1n1[:, 1],\n",
        "    \"seasonal_vaccine\": y_pred_seas[:, 1]\n",
        "})"
      ],
      "execution_count": 0,
      "outputs": []
    },
    {
      "cell_type": "code",
      "metadata": {
        "id": "ury_unTIjczW",
        "colab_type": "code",
        "colab": {}
      },
      "source": [
        "results_df.to_csv(\"/content/drive/My Drive/data/flu/submission_v1_rf.csv\", index=False)"
      ],
      "execution_count": 0,
      "outputs": []
    },
    {
      "cell_type": "code",
      "metadata": {
        "id": "sutYZyCNjcvl",
        "colab_type": "code",
        "colab": {}
      },
      "source": [
        ""
      ],
      "execution_count": 0,
      "outputs": []
    },
    {
      "cell_type": "code",
      "metadata": {
        "id": "QBndythTiHK-",
        "colab_type": "code",
        "colab": {}
      },
      "source": [
        "imp_constant = SimpleImputer(strategy='constant', fill_value='missing')\n",
        "ohe = OneHotEncoder()"
      ],
      "execution_count": 0,
      "outputs": []
    },
    {
      "cell_type": "code",
      "metadata": {
        "id": "s7MBJHkjsZ_Z",
        "colab_type": "code",
        "colab": {}
      },
      "source": [
        "imp_ohe = make_pipeline(imp_constant, ohe)\n",
        "vect = CountVectorizer()\n",
        "imp = SimpleImputer()"
      ],
      "execution_count": 0,
      "outputs": []
    },
    {
      "cell_type": "code",
      "metadata": {
        "id": "56DjsbDCsdFH",
        "colab_type": "code",
        "colab": {}
      },
      "source": [
        "ct = make_column_transformer(\n",
        "    (imp_ohe, features),\n",
        "    (imp, features),\n",
        "    remainder='passthrough')"
      ],
      "execution_count": 0,
      "outputs": []
    },
    {
      "cell_type": "code",
      "metadata": {
        "id": "N_jEbjfrskQb",
        "colab_type": "code",
        "colab": {}
      },
      "source": [
        "logreg = LogisticRegression(solver='liblinear', random_state=11)"
      ],
      "execution_count": 0,
      "outputs": []
    },
    {
      "cell_type": "code",
      "metadata": {
        "id": "rOm_LDtowWX9",
        "colab_type": "code",
        "colab": {}
      },
      "source": [
        "df_test = df_test[features]"
      ],
      "execution_count": 0,
      "outputs": []
    },
    {
      "cell_type": "code",
      "metadata": {
        "id": "OziKkQVfyaPv",
        "colab_type": "code",
        "colab": {
          "base_uri": "https://localhost:8080/",
          "height": 252
        },
        "outputId": "ce271c8b-616d-4d7f-8a85-fd73cbb7d47c"
      },
      "source": [
        "df_test.columns"
      ],
      "execution_count": 22,
      "outputs": [
        {
          "output_type": "execute_result",
          "data": {
            "text/plain": [
              "Index(['age_group', 'behavioral_antiviral_meds', 'behavioral_avoidance',\n",
              "       'behavioral_face_mask', 'behavioral_large_gatherings',\n",
              "       'behavioral_outside_home', 'behavioral_touch_face',\n",
              "       'behavioral_wash_hands', 'census_msa', 'child_under_6_months',\n",
              "       'chronic_med_condition', 'doctor_recc_h1n1', 'doctor_recc_seasonal',\n",
              "       'education', 'employment_industry', 'employment_occupation',\n",
              "       'employment_status', 'h1n1_concern', 'h1n1_knowledge',\n",
              "       'health_insurance', 'health_worker', 'hhs_geo_region',\n",
              "       'household_adults', 'household_children', 'income_poverty',\n",
              "       'marital_status', 'opinion_h1n1_risk', 'opinion_h1n1_sick_from_vacc',\n",
              "       'opinion_h1n1_vacc_effective', 'opinion_seas_risk',\n",
              "       'opinion_seas_sick_from_vacc', 'opinion_seas_vacc_effective', 'race',\n",
              "       'rent_or_own', 'sex'],\n",
              "      dtype='object')"
            ]
          },
          "metadata": {
            "tags": []
          },
          "execution_count": 22
        }
      ]
    },
    {
      "cell_type": "code",
      "metadata": {
        "id": "oiQVRpdbskT7",
        "colab_type": "code",
        "colab": {}
      },
      "source": [
        "pipe = make_pipeline(ct, logreg)\n",
        "pipe.fit(df_X, df_y_h1n1)\n",
        "pipe.predict(df_test)"
      ],
      "execution_count": 0,
      "outputs": []
    },
    {
      "cell_type": "code",
      "metadata": {
        "id": "ZnSqcqyTxNvu",
        "colab_type": "code",
        "colab": {
          "base_uri": "https://localhost:8080/",
          "height": 252
        },
        "outputId": "0c7f9e81-afcd-4c0a-a49c-9746c2f7db4c"
      },
      "source": [
        "df_test.columns"
      ],
      "execution_count": 48,
      "outputs": [
        {
          "output_type": "execute_result",
          "data": {
            "text/plain": [
              "Index(['age_group', 'behavioral_antiviral_meds', 'behavioral_avoidance',\n",
              "       'behavioral_face_mask', 'behavioral_large_gatherings',\n",
              "       'behavioral_outside_home', 'behavioral_touch_face',\n",
              "       'behavioral_wash_hands', 'census_msa', 'child_under_6_months',\n",
              "       'chronic_med_condition', 'doctor_recc_h1n1', 'doctor_recc_seasonal',\n",
              "       'education', 'employment_industry', 'employment_occupation',\n",
              "       'employment_status', 'h1n1_concern', 'h1n1_knowledge',\n",
              "       'health_insurance', 'health_worker', 'hhs_geo_region',\n",
              "       'household_adults', 'household_children', 'income_poverty',\n",
              "       'marital_status', 'opinion_h1n1_risk', 'opinion_h1n1_sick_from_vacc',\n",
              "       'opinion_h1n1_vacc_effective', 'opinion_seas_risk',\n",
              "       'opinion_seas_sick_from_vacc', 'opinion_seas_vacc_effective', 'race',\n",
              "       'rent_or_own', 'sex'],\n",
              "      dtype='object')"
            ]
          },
          "metadata": {
            "tags": []
          },
          "execution_count": 48
        }
      ]
    },
    {
      "cell_type": "code",
      "metadata": {
        "id": "6V69PnXHxTsm",
        "colab_type": "code",
        "colab": {
          "base_uri": "https://localhost:8080/",
          "height": 252
        },
        "outputId": "00422378-22c4-4168-dd37-be8e7d6a838a"
      },
      "source": [
        "df_train.columns"
      ],
      "execution_count": 49,
      "outputs": [
        {
          "output_type": "execute_result",
          "data": {
            "text/plain": [
              "Index(['respondent_id', 'h1n1_concern', 'h1n1_knowledge',\n",
              "       'behavioral_antiviral_meds', 'behavioral_avoidance',\n",
              "       'behavioral_face_mask', 'behavioral_wash_hands',\n",
              "       'behavioral_large_gatherings', 'behavioral_outside_home',\n",
              "       'behavioral_touch_face', 'doctor_recc_h1n1', 'doctor_recc_seasonal',\n",
              "       'chronic_med_condition', 'child_under_6_months', 'health_worker',\n",
              "       'health_insurance', 'opinion_h1n1_vacc_effective', 'opinion_h1n1_risk',\n",
              "       'opinion_h1n1_sick_from_vacc', 'opinion_seas_vacc_effective',\n",
              "       'opinion_seas_risk', 'opinion_seas_sick_from_vacc', 'age_group',\n",
              "       'education', 'race', 'sex', 'income_poverty', 'marital_status',\n",
              "       'rent_or_own', 'employment_status', 'hhs_geo_region', 'census_msa',\n",
              "       'household_adults', 'household_children', 'employment_industry',\n",
              "       'employment_occupation'],\n",
              "      dtype='object')"
            ]
          },
          "metadata": {
            "tags": []
          },
          "execution_count": 49
        }
      ]
    },
    {
      "cell_type": "code",
      "metadata": {
        "id": "db6BVXwrskXs",
        "colab_type": "code",
        "colab": {}
      },
      "source": [
        "from sklearn.model_selection import cross_val_score\n",
        "%time cross_val_score(pipe, X, y, cv=5, scoring='accuracy').mean()"
      ],
      "execution_count": 0,
      "outputs": []
    }
  ]
}